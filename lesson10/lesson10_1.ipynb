{
 "cells": [
  {
   "cell_type": "code",
   "execution_count": null,
   "id": "db464e2c",
   "metadata": {},
   "outputs": [],
   "source": [
    "import psycopg2\n",
    "\n",
    "def execute_query(connection, query):\n",
    "    cursor = connection.cursor()\n",
    "    cursor.execute(query)\n",
    "    result = cursor.fetchall()\n",
    "    cursor.close()\n",
    "    return result\n",
    "\n",
    "def create_connection():\n",
    "    conn = psycopg2.connect(\n",
    "        host=\"dpg-d2bvmo7diees73f5fn8g-a.singapore-postgres.render.com\",\n",
    "        database=\"chillee_sunday\",\n",
    "        user=\"chillee_sunday_user\",\n",
    "        password=\"KRsZo4u7MMXmHLhPo36FN4PeRZBkkQt4\",\n",
    "        port=\"5432\"\n",
    "    )\n",
    "    return conn\n",
    "\n",
    "\n",
    "def main():\n",
    "    conn = create_connection()\n",
    "    if conn:\n",
    "        print(\"成功連接到資料庫！\")\n",
    "        query = \"\"\"\n",
    "        SELECT count(*) AS \"筆數\"\n",
    "        FROM \"台鐵車站資訊\";\n",
    "        \"\"\"\n",
    "        result = execute_query(conn, query)\n",
    "        print(\"台鐵車站資訊：\", result)\n",
    "        conn.close()\n",
    "    else:\n",
    "        print(\"無法連接到資料庫，請檢查設定。\")\n",
    "        return\n",
    "\n",
    "if __name__ == \"__main__\":\n",
    "    main()"
   ]
  }
 ],
 "metadata": {
  "kernelspec": {
   "display_name": "base",
   "language": "python",
   "name": "python3"
  },
  "language_info": {
   "name": "python",
   "version": "3.12.11"
  }
 },
 "nbformat": 4,
 "nbformat_minor": 5
}
